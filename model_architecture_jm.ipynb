{
 "cells": [
  {
   "cell_type": "code",
   "execution_count": null,
   "id": "0",
   "metadata": {},
   "outputs": [],
   "source": [
    "import torch\n",
    "import torch.nn as nn\n",
    "import torch.optim as optim\n",
    "import pandas as pd\n",
    "import numpy as np\n",
    "import os\n",
    "from torch.utils.data import Dataset, DataLoader\n",
    "from torchvision import transforms\n",
    "from PIL import Image\n",
    "from tqdm.notebook import tqdm, trange"
   ]
  },
  {
   "cell_type": "code",
   "execution_count": null,
   "id": "1",
   "metadata": {},
   "outputs": [],
   "source": [
    "import torch\n",
    "print(torch.version.cuda)"
   ]
  },
  {
   "cell_type": "code",
   "execution_count": null,
   "id": "2",
   "metadata": {},
   "outputs": [],
   "source": [
    "torch.set_float32_matmul_precision(\"high\")"
   ]
  },
  {
   "cell_type": "code",
   "execution_count": null,
   "id": "3",
   "metadata": {},
   "outputs": [],
   "source": [
    "class Encoder(nn.Module):\n",
    "    def __init__(self):\n",
    "        super().__init__()\n",
    "        self.conv_layers = nn.Sequential(\n",
    "            self.conv_block(3, 64),     # B x 64 x 64 x 64\n",
    "            self.conv_block(64, 128),   # B x 128 x 32 x 32\n",
    "            self.conv_block(128, 128),  # B x 128 x 16 x 16\n",
    "            self.conv_block(128, 128),  # B x 128 x 8 x 8\n",
    "            self.conv_block(128, 128),  # B x 128 x 4 x 4\n",
    "            self.conv_block(128, 128),  # B x 128 x 2 x 2\n",
    "        )\n",
    "        self.flatten = nn.Flatten()\n",
    "        self.z_mu = nn.Linear(128 * 2 * 2, 200)\n",
    "        self.z_logvar = nn.Linear(128 * 2 * 2, 200)\n",
    "\n",
    "    @staticmethod\n",
    "    def conv_block(in_channels, out_channels):\n",
    "        return nn.Sequential(\n",
    "            nn.Conv2d(in_channels, out_channels, kernel_size=3, stride=2, padding=1),\n",
    "            nn.BatchNorm2d(out_channels),\n",
    "            nn.LeakyReLU(1e-2)\n",
    "        )\n",
    "\n",
    "    def forward(self, x):\n",
    "        x = self.conv_layers(x)\n",
    "        x = self.flatten(x)\n",
    "        return self.z_mu(x), self.z_logvar(x)"
   ]
  },
  {
   "cell_type": "code",
   "execution_count": null,
   "id": "4",
   "metadata": {},
   "outputs": [],
   "source": [
    "class Decoder(nn.Module):\n",
    "    def __init__(self):\n",
    "        super().__init__()\n",
    "        self.fc = nn.Linear(200, 128 * 2 * 2) # match the input\n",
    "        self.deconv_layers = nn.Sequential(\n",
    "            self.deconv_block(128, 128),    # B x 128 x 2 x 2\n",
    "            self.deconv_block(128, 128),    # B x 128 x 4 x 4\n",
    "            self.deconv_block(128, 128),    # B x 128 x 8 x 8\n",
    "            self.deconv_block(128, 128),    # B x 128 x 16 x 16\n",
    "            self.deconv_block(128, 64),     # B x 64 x 32 x 32\n",
    "            nn.ConvTranspose2d(64, 3, kernel_size=3, stride=2, padding=1, output_padding=1), # B x 3 x 64 x 64\n",
    "            nn.Sigmoid()\n",
    "        )\n",
    "\n",
    "    @staticmethod\n",
    "    def deconv_block(in_channels, out_channels):\n",
    "        return nn.Sequential(\n",
    "            nn.ConvTranspose2d(in_channels, out_channels, kernel_size=3, stride=2, padding=1, output_padding=1),\n",
    "            nn.BatchNorm2d(out_channels),\n",
    "            nn.LeakyReLU(1e-2)\n",
    "        )\n",
    "\n",
    "    def forward(self, z):\n",
    "        x = self.fc(z).view(-1, 128, 2, 2)\n",
    "        return self.deconv_layers(x)"
   ]
  },
  {
   "cell_type": "code",
   "execution_count": null,
   "id": "5",
   "metadata": {},
   "outputs": [],
   "source": [
    "class Sampling(nn.Module):\n",
    "    def forward(self, z_mean, z_logvar):\n",
    "        epsilon = torch.randn_like(z_mean)\n",
    "        return z_mean + torch.exp(0.5 * z_logvar) * epsilon"
   ]
  },
  {
   "cell_type": "code",
   "execution_count": null,
   "id": "6",
   "metadata": {},
   "outputs": [],
   "source": [
    "def KL_Divergence_Loss(z_mean,z_logvar):\n",
    "    loss = -0.5 * torch.sum(1 + z_logvar - z_mean.pow(2) - z_logvar.exp())\n",
    "    loss = loss.mean()\n",
    "    return loss\n",
    "\n",
    "criterion = nn.MSELoss(reduction='mean')"
   ]
  },
  {
   "cell_type": "code",
   "execution_count": null,
   "id": "7",
   "metadata": {},
   "outputs": [],
   "source": [
    "device = (\n",
    "    torch.device(\"mps\") if torch.backends.mps.is_available() else\n",
    "    torch.device(\"cuda\") if torch.cuda.is_available() else\n",
    "    torch.device(\"cpu\")\n",
    ")\n",
    "print(f\"Using device: {device}\")"
   ]
  },
  {
   "cell_type": "code",
   "execution_count": null,
   "id": "8",
   "metadata": {},
   "outputs": [],
   "source": [
    "class AutoEncoder(nn.Module):\n",
    "    def __init__(self):\n",
    "        super().__init__()\n",
    "        self.encoder = Encoder()\n",
    "        self.decoder = Decoder()\n",
    "        self.sampling_layer = Sampling()\n",
    "\n",
    "    def forward(self, x):\n",
    "        z_mean, z_logvar = self.encoder(x)\n",
    "        kl_loss = KL_Divergence_Loss(z_mean, z_logvar)\n",
    "        z_sample = self.sampling_layer(z_mean, z_logvar)\n",
    "        return kl_loss, self.decoder(z_sample)"
   ]
  },
  {
   "cell_type": "code",
   "execution_count": null,
   "id": "9",
   "metadata": {},
   "outputs": [],
   "source": [
    "model = AutoEncoder().to(device)\n",
    "criterion = nn.MSELoss(reduction='mean')\n",
    "optimizer = optim.AdamW(model.parameters(), lr=0.01, weight_decay=0.0001)\n",
    "scheduler = optim.lr_scheduler.ReduceLROnPlateau(optimizer, mode='min', patience=3, factor=0.1, threshold=0.001)\n",
    "beta = 1.0"
   ]
  },
  {
   "cell_type": "code",
   "execution_count": null,
   "id": "10",
   "metadata": {},
   "outputs": [],
   "source": [
    "beta = 1.0\n",
    "\n",
    "val_losses = []"
   ]
  },
  {
   "cell_type": "code",
   "execution_count": null,
   "id": "11",
   "metadata": {},
   "outputs": [],
   "source": [
    "image_transforms = transforms.Compose([\n",
    "    transforms.Resize((128, 128)),\n",
    "    transforms.ToTensor(),\n",
    "    transforms.Normalize(mean=[0.5, 0.5, 0.5], std=[0.5, 0.5, 0.5])\n",
    "])"
   ]
  },
  {
   "cell_type": "code",
   "execution_count": null,
   "id": "12",
   "metadata": {},
   "outputs": [],
   "source": [
    "class ImageDataset(Dataset):\n",
    "    def __init__(self, csv_file, transform=None):\n",
    "        self.data_frame = pd.read_csv(csv_file)\n",
    "        self.transform = transform\n",
    "\n",
    "    def __len__(self):\n",
    "        return len(self.data_frame)\n",
    "\n",
    "    def __getitem__(self, idx):\n",
    "        img_path = self.data_frame.iloc[idx]['filepath']\n",
    "        age = self.data_frame.iloc[idx]['age']\n",
    "        gender = self.data_frame.iloc[idx]['gender']\n",
    "\n",
    "        image = Image.open(img_path).convert(\"RGB\")\n",
    "        if self.transform:\n",
    "            image = self.transform(image)\n",
    "\n",
    "        label = torch.tensor([age, gender], dtype=torch.float32)\n",
    "\n",
    "        return image, label"
   ]
  },
  {
   "cell_type": "code",
   "execution_count": null,
   "id": "13",
   "metadata": {},
   "outputs": [],
   "source": [
    "batch_size = 64\n",
    "\n",
    "train_csv = \"../FGNET_Dataset/Index/Train.csv\"\n",
    "val_csv = \"../FGNET_Dataset/Index/Validation.csv\"\n",
    "test_csv = \"../FGNET_Dataset/Index/Test.csv\"\n",
    "\n",
    "train_dataset = ImageDataset(train_csv, transform=image_transforms)\n",
    "val_dataset = ImageDataset(val_csv, transform=image_transforms)\n",
    "\n",
    "train_loader = DataLoader(train_dataset, batch_size=batch_size, shuffle=True, num_workers=0, pin_memory=True)\n",
    "val_loader = DataLoader(val_dataset, batch_size=batch_size, shuffle=False, num_workers=0, pin_memory=True)"
   ]
  },
  {
   "cell_type": "code",
   "execution_count": null,
   "id": "14",
   "metadata": {},
   "outputs": [],
   "source": [
    "import matplotlib.pyplot as plt\n",
    "\n",
    "sample_batch = next(iter(train_loader))\n",
    "\n",
    "sample_image, _ = sample_batch\n",
    "\n",
    "sample_image = sample_image[0].cpu().numpy().transpose(1, 2, 0)\n",
    "\n",
    "sample_image = (sample_image * 0.5) + 0.5\n",
    "\n",
    "plt.imshow(sample_image)\n",
    "plt.axis(\"off\")\n",
    "plt.show()"
   ]
  },
  {
   "cell_type": "code",
   "execution_count": null,
   "id": "15",
   "metadata": {},
   "outputs": [],
   "source": [
    "checkpoint_dir = \"./checkpoints\"\n",
    "os.makedirs(checkpoint_dir, exist_ok=True)\n",
    "\n",
    "def save_checkpoint(model, optimizer, epoch, loss, filename):\n",
    "    checkpoint = {\n",
    "        'epoch': epoch,\n",
    "        'model_state_dict': model.state_dict(),\n",
    "        'optimizer_state_dict': optimizer.state_dict(),\n",
    "        'loss': loss\n",
    "    }\n",
    "    torch.save(checkpoint, filename)"
   ]
  },
  {
   "cell_type": "code",
   "execution_count": null,
   "id": "16",
   "metadata": {},
   "outputs": [],
   "source": [
    "checkpoint_path = \"./checkpoints/checkpoint_epoch_20.pth\"\n",
    "\n",
    "if os.path.exists(checkpoint_path):\n",
    "\tcheckpoint = torch.load(checkpoint_path, map_location=device, weights_only=True)\n",
    "\n",
    "\tmodel.load_state_dict(checkpoint['model_state_dict'])\n",
    "\toptimizer.load_state_dict(checkpoint['optimizer_state_dict'])\n",
    "\n",
    "\tstart_epoch = checkpoint['epoch'] + 1\n",
    "\tlast_loss = checkpoint['loss']\n",
    "\n",
    "\tprint(f\"Resuming training from Epoch {start_epoch} with last loss {last_loss:.4f}\")\n",
    "else:\n",
    "\tprint(f\"Checkpoint file not found at {checkpoint_path}. Starting training from scratch.\")\n",
    "\tstart_epoch = 0\n",
    "\tlast_loss = None"
   ]
  },
  {
   "cell_type": "code",
   "execution_count": null,
   "id": "17",
   "metadata": {},
   "outputs": [],
   "source": [
    "epochs = 20"
   ]
  },
  {
   "cell_type": "code",
   "execution_count": null,
   "id": "18",
   "metadata": {},
   "outputs": [],
   "source": [
    "for epoch in trange(start_epoch, epochs, desc=\"Epoch Progress\", position=0, leave=True):\n",
    "    model.train()\n",
    "    total_loss = 0\n",
    "    total_kl_loss = 0\n",
    "    total_rec_loss = 0\n",
    "    num_batches = len(train_loader)\n",
    "\n",
    "    with tqdm(train_loader, desc=f\"Training Epoch {epoch+1}\", position=1, leave=False, dynamic_ncols=True) as pbar:\n",
    "        for xb, yb in pbar:\n",
    "            optimizer.zero_grad(set_to_none=True)\n",
    "\n",
    "            xb = xb.to(device, non_blocking=True)\n",
    "            yb = yb.to(device, non_blocking=True)\n",
    "\n",
    "            kl_loss, outs = model(xb)\n",
    "\n",
    "            reconstructed_loss = criterion(xb, outs)\n",
    "            reconstructed_loss = reconstructed_loss/batch_size\n",
    "\n",
    "            total_kl_loss += kl_loss.item()\n",
    "            total_rec_loss += reconstructed_loss.item()\n",
    "\n",
    "            loss = reconstructed_loss + beta * kl_loss\n",
    "\n",
    "            loss.backward()\n",
    "            optimizer.step()\n",
    "\n",
    "            total_loss += loss.item()\n",
    "\n",
    "    avg_train_loss = total_loss / num_batches\n",
    "    avg_rec_loss = total_rec_loss / num_batches\n",
    "    avg_kl_loss = total_kl_loss / num_batches\n",
    "\n",
    "    model.eval()\n",
    "    total_val_loss = 0\n",
    "    with torch.no_grad():\n",
    "        with tqdm(val_loader, desc=f\"Validation Epoch {epoch+1}\", position=2, leave=False, dynamic_ncols=True) as pbar:\n",
    "            for xb, yb in pbar:\n",
    "                xb = xb.to(device, non_blocking=True)\n",
    "                yb = yb.to(device, non_blocking=True)\n",
    "\n",
    "                model = model.to(device)\n",
    "\n",
    "                kl_loss, outs = model(xb)\n",
    "\n",
    "                reconstructed_loss = criterion(xb, outs) / batch_size\n",
    "                val_loss = reconstructed_loss + beta * kl_loss\n",
    "                total_val_loss += val_loss.item()\n",
    "\n",
    "                pbar.set_postfix({\"Val Loss\": val_loss.item()})\n",
    "\n",
    "    avg_val_loss = total_val_loss / len(val_loader)\n",
    "    val_losses.append(avg_val_loss)\n",
    "\n",
    "    print(f\"Epoch {epoch + 1}/{epochs} - \"\n",
    "          f\"Train Loss: {avg_train_loss:.4f}, \"\n",
    "          f\"Validation Loss: {avg_val_loss:.4f}, \"\n",
    "          f\"Rec Loss: {avg_rec_loss:.4f}, \"\n",
    "          f\"KL Loss: {avg_kl_loss:.4f}\")\n",
    "\n",
    "    print(f\"Learning Rate: {optimizer.param_groups[0]['lr']:.6f}\")\n",
    "\n",
    "    checkpoint_filename = os.path.join(checkpoint_dir, f'checkpoint_epoch_{epoch+1}.pth')\n",
    "    save_checkpoint(model, optimizer, epoch, avg_train_loss, checkpoint_filename)\n",
    "\n",
    "    scheduler.step(avg_val_loss)"
   ]
  },
  {
   "cell_type": "code",
   "execution_count": null,
   "id": "19",
   "metadata": {},
   "outputs": [],
   "source": [
    "model.eval()\n",
    "zsample = torch.randn(1, 200).to(device)\n",
    "\n",
    "with torch.no_grad():\n",
    "    gen_img = model.decoder(zsample).cpu().squeeze(0).numpy().transpose(1, 2, 0)\n",
    "    plt.imshow(gen_img)\n",
    "    plt.axis(\"off\")\n",
    "    plt.show()"
   ]
  },
  {
   "cell_type": "code",
   "execution_count": null,
   "id": "20",
   "metadata": {},
   "outputs": [],
   "source": []
  }
 ],
 "metadata": {
  "kernelspec": {
   "display_name": "bayes",
   "language": "python",
   "name": "python3"
  },
  "language_info": {
   "codemirror_mode": {
    "name": "ipython",
    "version": 3
   },
   "file_extension": ".py",
   "mimetype": "text/x-python",
   "name": "python",
   "nbconvert_exporter": "python",
   "pygments_lexer": "ipython3",
   "version": "3.10.16"
  }
 },
 "nbformat": 4,
 "nbformat_minor": 5
}
