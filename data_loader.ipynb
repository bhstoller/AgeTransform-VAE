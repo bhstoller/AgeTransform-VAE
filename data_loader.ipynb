{
 "cells": [
  {
   "cell_type": "code",
   "execution_count": null,
   "id": "0",
   "metadata": {},
   "outputs": [],
   "source": [
    "import os\n",
    "import pandas as pd\n",
    "import matplotlib.pyplot as plt\n",
    "from PIL import Image\n",
    "import re"
   ]
  },
  {
   "cell_type": "code",
   "execution_count": null,
   "id": "1",
   "metadata": {},
   "outputs": [],
   "source": [
    "dataset_path = 'Dataset'"
   ]
  },
  {
   "cell_type": "code",
   "execution_count": null,
   "id": "2",
   "metadata": {},
   "outputs": [],
   "source": [
    "train_labels = pd.read_csv(os.path.join(dataset_path, 'Index', 'Train.csv'))\n",
    "print(train_labels.head())"
   ]
  },
  {
   "cell_type": "code",
   "execution_count": null,
   "id": "3",
   "metadata": {},
   "outputs": [],
   "source": [
    "def extract_person_id(filename):\n",
    "    match = re.match(r\"(\\d+)_\", filename)\n",
    "    return match.group(1) if match else filename\n",
    "\n",
    "train_labels[\"person_id\"] = train_labels[\"filename\"].apply(extract_person_id)"
   ]
  },
  {
   "cell_type": "code",
   "execution_count": null,
   "id": "4",
   "metadata": {},
   "outputs": [],
   "source": [
    "unique_people = train_labels[\"person_id\"].unique()\n",
    "sampled_people = unique_people[:10]\n",
    "\n",
    "fig, axes = plt.subplots(10, 5, figsize=(15, 20))\n",
    "\n",
    "for i, person_id in enumerate(sampled_people):\n",
    "    person_images = train_labels[train_labels[\"person_id\"] == person_id].sort_values(\"age\")\n",
    "\n",
    "    selected_images = person_images.iloc[:5]\n",
    "\n",
    "    for j, (_, row) in enumerate(selected_images.iterrows()):\n",
    "        img_path = os.path.join(dataset_path, \"Images\", \"Train\", row[\"filename\"])\n",
    "        img = Image.open(img_path).convert(\"RGB\")\n",
    "\n",
    "        axes[i, j].imshow(img)\n",
    "        axes[i, j].axis(\"off\")\n",
    "        axes[i, j].set_title(f\"Age: {row['age']}\")\n",
    "\n",
    "plt.suptitle(\"Morphing of 10 Distinct People Across Ages\", fontsize=16)\n",
    "plt.show()"
   ]
  }
 ],
 "metadata": {
  "kernelspec": {
   "display_name": "Python 3",
   "language": "python",
   "name": "python3"
  },
  "language_info": {
   "codemirror_mode": {
    "name": "ipython",
    "version": 2
   },
   "file_extension": ".py",
   "mimetype": "text/x-python",
   "name": "python",
   "nbconvert_exporter": "python",
   "pygments_lexer": "ipython2",
   "version": "2.7.6"
  }
 },
 "nbformat": 4,
 "nbformat_minor": 5
}
