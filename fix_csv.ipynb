{
 "cells": [
  {
   "cell_type": "code",
   "id": "initial_id",
   "metadata": {
    "collapsed": true,
    "ExecuteTime": {
     "end_time": "2025-02-28T00:10:39.189757Z",
     "start_time": "2025-02-28T00:10:38.294117Z"
    }
   },
   "source": [
    "import pandas as pd\n",
    "\n",
    "def fix_csv_file(csv_path):\n",
    "    df = pd.read_csv(csv_path)\n",
    "    df[\"filepath\"] = df[\"filepath\"].str.replace(\"/kaggle/input/morph/\", \"\", regex=False)\n",
    "    df.to_csv(csv_path, index=False)\n",
    "    print(f\"Fixed file paths in {csv_path}\")\n",
    "\n",
    "fix_csv_file(\"Dataset/Index/Train.csv\")\n",
    "fix_csv_file(\"Dataset/Index/Validation.csv\")\n",
    "fix_csv_file(\"Dataset/Index/Test.csv\")"
   ],
   "outputs": [
    {
     "name": "stdout",
     "output_type": "stream",
     "text": [
      "Fixed file paths in Dataset/Index/Train.csv\n",
      "Fixed file paths in Dataset/Index/Validation.csv\n",
      "Fixed file paths in Dataset/Index/Test.csv\n"
     ]
    }
   ],
   "execution_count": 1
  },
  {
   "metadata": {},
   "cell_type": "code",
   "outputs": [],
   "execution_count": null,
   "source": "",
   "id": "3088b97219eb638a"
  }
 ],
 "metadata": {
  "kernelspec": {
   "display_name": "Python 3",
   "language": "python",
   "name": "python3"
  },
  "language_info": {
   "codemirror_mode": {
    "name": "ipython",
    "version": 2
   },
   "file_extension": ".py",
   "mimetype": "text/x-python",
   "name": "python",
   "nbconvert_exporter": "python",
   "pygments_lexer": "ipython2",
   "version": "2.7.6"
  }
 },
 "nbformat": 4,
 "nbformat_minor": 5
}
