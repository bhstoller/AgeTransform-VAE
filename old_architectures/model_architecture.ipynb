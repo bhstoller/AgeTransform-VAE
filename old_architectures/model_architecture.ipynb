{
 "cells": [
  {
   "cell_type": "code",
   "execution_count": null,
   "id": "0",
   "metadata": {},
   "outputs": [],
   "source": [
    "import torch\n",
    "import torch.nn as nn\n",
    "import torch.optim as optim\n",
    "import pandas as pd\n",
    "import numpy as np\n",
    "import os\n",
    "from torch.utils.data import Dataset, DataLoader\n",
    "from torchvision import transforms\n",
    "from PIL import Image\n",
    "from tqdm.notebook import tqdm, trange\n",
    "import lpips\n",
    "import matplotlib.pyplot as plt"
   ]
  },
  {
   "cell_type": "code",
   "execution_count": null,
   "id": "1",
   "metadata": {},
   "outputs": [],
   "source": [
    "DEBUG_HOOK = True\n",
    "LOAD_FROM_CHECKPOINT = False\n",
    "DEBUG_CONSTANT_AGE = False\n",
    "\n",
    "beta = 0.5\n",
    "batch_size = 64"
   ]
  },
  {
   "cell_type": "code",
   "execution_count": null,
   "id": "2",
   "metadata": {},
   "outputs": [],
   "source": [
    "torch.set_float32_matmul_precision(\"high\")"
   ]
  },
  {
   "cell_type": "code",
   "execution_count": null,
   "id": "3",
   "metadata": {},
   "outputs": [],
   "source": [
    "class Encoder(nn.Module):\n",
    "    def __init__(self):\n",
    "        super().__init__()\n",
    "        self.conv_layers = nn.Sequential(\n",
    "            self.conv_block(3, 64),     # B x 64 x 64 x 64\n",
    "            self.conv_block(64, 128),   # B x 128 x 32 x 32\n",
    "            self.conv_block(128, 128),  # B x 128 x 16 x 16\n",
    "            self.conv_block(128, 128),  # B x 128 x 8 x 8\n",
    "            self.conv_block(128, 128),  # B x 128 x 4 x 4\n",
    "            self.conv_block(128, 128),  # B x 128 x 2 x 2\n",
    "        )\n",
    "        self.flatten = nn.Flatten()\n",
    "        self.age_fc = nn.Linear(1, 32)  # Embed the age into a 32-dim vector\n",
    "        self.fc = nn.Linear(128 * 2 * 2 + 32, 128 * 2 * 2)\n",
    "        self.z_mu = nn.Linear(128 * 2 * 2, 200)\n",
    "        self.z_logvar = nn.Linear(128 * 2 * 2, 200)\n",
    "\n",
    "    @staticmethod\n",
    "    def conv_block(in_channels, out_channels):\n",
    "        return nn.Sequential(\n",
    "            nn.Conv2d(in_channels, out_channels, kernel_size=3, stride=2, padding=1),\n",
    "            nn.BatchNorm2d(out_channels),\n",
    "            nn.LeakyReLU(1e-2)\n",
    "        )\n",
    "\n",
    "    def forward(self, x, age):\n",
    "        x_conv = self.conv_layers(x)   # Shape: (B, 128, 2, 2)\n",
    "        skip = x_conv                  # Save skip connection for the decoder\n",
    "        x = self.flatten(x_conv)\n",
    "        age_embed = torch.relu(self.age_fc(age))\n",
    "        x = torch.cat([x, age_embed], dim=1)\n",
    "        x = torch.relu(self.fc(x))\n",
    "        return self.z_mu(x), self.z_logvar(x), skip"
   ]
  },
  {
   "cell_type": "code",
   "execution_count": null,
   "id": "4",
   "metadata": {},
   "outputs": [],
   "source": [
    "class Decoder(nn.Module):\n",
    "    def __init__(self):\n",
    "        super().__init__()\n",
    "        self.age_fc = nn.Linear(1, 32)  # Embed the age condition\n",
    "        # 200-dimensional latent space + 32-dimensional age embedding\n",
    "        self.fc = nn.Linear(200 + 32, 256 * 4 * 4)\n",
    "        # The first deconv block accepts 384 channels (256 from fc output + 128 from skip)\n",
    "        self.deconv_layers = nn.Sequential(\n",
    "            self.deconv_block(384, 128),\n",
    "            self.deconv_block(128, 128),\n",
    "            self.deconv_block(128, 128),\n",
    "            self.deconv_block(128, 64),\n",
    "            nn.ConvTranspose2d(64, 3, kernel_size=3, stride=2, padding=1, output_padding=1),\n",
    "            nn.Sigmoid()\n",
    "        )\n",
    "\n",
    "    @staticmethod\n",
    "    def deconv_block(in_channels, out_channels):\n",
    "        return nn.Sequential(\n",
    "            nn.ConvTranspose2d(in_channels, out_channels, kernel_size=3,\n",
    "                               stride=2, padding=1, output_padding=1),\n",
    "            nn.BatchNorm2d(out_channels),\n",
    "            nn.LeakyReLU(1e-2)\n",
    "        )\n",
    "\n",
    "    def forward(self, z, age, skip):\n",
    "        age_embed = torch.relu(self.age_fc(age))\n",
    "        z = torch.cat([z, age_embed], dim=1)\n",
    "        x = self.fc(z).view(-1, 256, 4, 4)\n",
    "        # Upsample skip connection from (B, 128, 2, 2) to (B, 128, 4, 4)\n",
    "        skip_up = torch.nn.functional.interpolate(skip, scale_factor=2, mode='nearest')\n",
    "        x = torch.cat([x, skip_up], dim=1)  # Concatenate to get (B, 384, 4, 4)\n",
    "        return self.deconv_layers(x)"
   ]
  },
  {
   "cell_type": "code",
   "execution_count": null,
   "id": "5",
   "metadata": {},
   "outputs": [],
   "source": [
    "class Sampling(nn.Module):\n",
    "    def forward(self, z_mean, z_logvar):\n",
    "        z_logvar = torch.clamp(z_logvar, min=-10, max=10)\n",
    "        epsilon = torch.randn_like(z_mean) * 0.5\n",
    "        return z_mean + torch.exp(0.5 * z_logvar) * epsilon"
   ]
  },
  {
   "cell_type": "code",
   "execution_count": null,
   "id": "6",
   "metadata": {},
   "outputs": [],
   "source": [
    "def KL_Divergence_Loss(z_mean, z_logvar, free_bits=0.1):\n",
    "    kl = -0.5 * (1 + z_logvar - z_mean.pow(2) - torch.exp(z_logvar))\n",
    "    kl = torch.sum(torch.clamp(kl, min=free_bits), dim=1)\n",
    "    return kl.mean()\n"
   ]
  },
  {
   "cell_type": "code",
   "execution_count": null,
   "id": "7",
   "metadata": {},
   "outputs": [],
   "source": [
    "criterion = nn.L1Loss(reduction='mean')"
   ]
  },
  {
   "cell_type": "code",
   "execution_count": null,
   "id": "8",
   "metadata": {},
   "outputs": [],
   "source": [
    "device = (\n",
    "    torch.device(\"mps\") if torch.backends.mps.is_available() else\n",
    "    torch.device(\"cuda\") if torch.cuda.is_available() else\n",
    "    torch.device(\"cpu\")\n",
    ")\n",
    "print(f\"Using device: {device}\")"
   ]
  },
  {
   "cell_type": "code",
   "execution_count": null,
   "id": "9",
   "metadata": {},
   "outputs": [],
   "source": [
    "loss_fn = lpips.LPIPS(net='vgg').to(device)\n",
    "def perceptual_loss(real, generated):\n",
    "    # Scale from [0,1] to [-1,1]\n",
    "    real_scaled = (real - 0.5) * 2.0\n",
    "    generated_scaled = (generated - 0.5) * 2.0\n",
    "    return loss_fn(real_scaled, generated_scaled).mean()"
   ]
  },
  {
   "cell_type": "code",
   "execution_count": null,
   "id": "10",
   "metadata": {},
   "outputs": [],
   "source": [
    "def init_weights(m):\n",
    "    if isinstance(m, (nn.Conv2d, nn.ConvTranspose2d)):\n",
    "        nn.init.kaiming_uniform_(m.weight, nonlinearity='leaky_relu')\n",
    "        if m.bias is not None:\n",
    "            nn.init.constant_(m.bias, 0)\n",
    "    elif isinstance(m, nn.Linear):\n",
    "        nn.init.kaiming_uniform_(m.weight, nonlinearity='leaky_relu')\n",
    "        if m.bias is not None:\n",
    "            nn.init.constant_(m.bias, 0)"
   ]
  },
  {
   "cell_type": "code",
   "execution_count": null,
   "id": "11",
   "metadata": {},
   "outputs": [],
   "source": [
    "class AutoEncoder(nn.Module):\n",
    "    def __init__(self):\n",
    "        super().__init__()\n",
    "        self.encoder = Encoder()\n",
    "        self.decoder = Decoder()\n",
    "        self.sampling_layer = Sampling()\n",
    "\n",
    "    def forward(self, x, age):\n",
    "        z_mean, z_logvar, skip = self.encoder(x, age)\n",
    "        kl_loss = KL_Divergence_Loss(z_mean, z_logvar)\n",
    "        z_sample = self.sampling_layer(z_mean, z_logvar)\n",
    "        return kl_loss, self.decoder(z_sample, age, skip)\n",
    "\n",
    "model = AutoEncoder().to(device)\n",
    "model.apply(init_weights)"
   ]
  },
  {
   "cell_type": "code",
   "execution_count": null,
   "id": "12",
   "metadata": {},
   "outputs": [],
   "source": [
    "optimizer = optim.AdamW(model.parameters(), lr=1e-4, weight_decay=0.0001)\n",
    "\n",
    "warmup_epochs = 10\n",
    "max_lr = 0.0005\n",
    "\n",
    "warmup_scheduler = torch.optim.lr_scheduler.LambdaLR(\n",
    "    optimizer, lr_lambda=lambda epoch: min((epoch + 1) / warmup_epochs, max_lr / 0.0005)\n",
    ")\n",
    "\n",
    "scheduler = optim.lr_scheduler.ReduceLROnPlateau(optimizer, mode='min', patience=3, factor=0.1, threshold=0.001)"
   ]
  },
  {
   "cell_type": "code",
   "execution_count": null,
   "id": "13",
   "metadata": {},
   "outputs": [],
   "source": [
    "def debug_hook(module, input, output):\n",
    "    print(f\"{module.__class__.__name__} output: mean={output.mean().item():.4f}, std={output.std().item():.4f}\")\n",
    "\n",
    "if DEBUG_HOOK:\n",
    "    model.encoder.age_fc.register_forward_hook(debug_hook)\n",
    "    model.decoder.age_fc.register_forward_hook(debug_hook)"
   ]
  },
  {
   "cell_type": "code",
   "execution_count": null,
   "id": "14",
   "metadata": {},
   "outputs": [],
   "source": [
    "image_transforms = transforms.Compose([\n",
    "    transforms.Resize((128, 128)),\n",
    "    transforms.ToTensor()  # Converts images to [0,1]\n",
    "])"
   ]
  },
  {
   "cell_type": "code",
   "execution_count": null,
   "id": "15",
   "metadata": {},
   "outputs": [],
   "source": [
    "class ImageDataset(Dataset):\n",
    "    def __init__(self, csv_file, transform=None):\n",
    "        self.data_frame = pd.read_csv(csv_file)\n",
    "        self.transform = transform\n",
    "        self.min_age = self.data_frame['age'].min()\n",
    "        self.max_age = self.data_frame['age'].max()\n",
    "\n",
    "    def __len__(self):\n",
    "        return len(self.data_frame)\n",
    "\n",
    "    def __getitem__(self, idx):\n",
    "        img_path = self.data_frame.iloc[idx]['filepath']\n",
    "        age = float(self.data_frame.iloc[idx]['age'])\n",
    "        try:\n",
    "            gender = float(self.data_frame.iloc[idx]['gender'])\n",
    "        except ValueError:\n",
    "            gender = 0.0\n",
    "        image = Image.open(img_path).convert(\"RGB\")\n",
    "        if self.transform:\n",
    "            image = self.transform(image)\n",
    "        normalized_age = 0.5 if self.max_age == self.min_age else (age - self.min_age) / (self.max_age - self.min_age)\n",
    "        label = torch.tensor([normalized_age, gender], dtype=torch.float32)\n",
    "        return image, label"
   ]
  },
  {
   "cell_type": "code",
   "execution_count": null,
   "id": "16",
   "metadata": {},
   "outputs": [],
   "source": [
    "train_csv = \"Dataset/Index/Train.csv\"\n",
    "val_csv = \"Dataset/Index/Validation.csv\"\n",
    "test_csv = \"Dataset/Index/Test.csv\"\n",
    "\n",
    "train_dataset = ImageDataset(train_csv, transform=image_transforms)\n",
    "val_dataset = ImageDataset(val_csv, transform=image_transforms)\n",
    "\n",
    "train_loader = DataLoader(train_dataset, batch_size=batch_size, shuffle=True, num_workers=0, pin_memory=True)\n",
    "val_loader = DataLoader(val_dataset, batch_size=batch_size, shuffle=False, num_workers=0, pin_memory=True)"
   ]
  },
  {
   "cell_type": "code",
   "execution_count": null,
   "id": "17",
   "metadata": {},
   "outputs": [],
   "source": [
    "sample_batch = next(iter(train_loader))\n",
    "\n",
    "sample_image, _ = sample_batch\n",
    "\n",
    "sample_image = sample_image[0].cpu().numpy().transpose(1, 2, 0)\n",
    "\n",
    "plt.imshow(sample_image)\n",
    "plt.axis(\"off\")\n",
    "plt.show()"
   ]
  },
  {
   "cell_type": "code",
   "execution_count": null,
   "id": "18",
   "metadata": {},
   "outputs": [],
   "source": [
    "if DEBUG_CONSTANT_AGE:\n",
    "    def get_age(labels, batch_size, device):\n",
    "        return CONSTANT_AGE.expand(batch_size, 1)\n",
    "else:\n",
    "    def get_age(labels, batch_size, device):\n",
    "        return labels[:, 0].unsqueeze(1).to(device, non_blocking=True)"
   ]
  },
  {
   "cell_type": "code",
   "execution_count": null,
   "id": "19",
   "metadata": {},
   "outputs": [],
   "source": [
    "checkpoint_dir = \"../checkpoints\"\n",
    "os.makedirs(checkpoint_dir, exist_ok=True)\n",
    "\n",
    "def save_checkpoint(model, optimizer, epoch, loss, filename):\n",
    "    checkpoint = {\n",
    "        'epoch': epoch,\n",
    "        'model_state_dict': model.state_dict(),\n",
    "        'optimizer_state_dict': optimizer.state_dict(),\n",
    "        'loss': loss\n",
    "    }\n",
    "    torch.save(checkpoint, filename)"
   ]
  },
  {
   "cell_type": "code",
   "execution_count": null,
   "id": "20",
   "metadata": {},
   "outputs": [],
   "source": [
    "if not LOAD_FROM_CHECKPOINT:\n",
    "    start_epoch = 0\n",
    "if LOAD_FROM_CHECKPOINT:\n",
    "    checkpoint_path = \"../checkpoints/checkpoint_epoch_5.pth\"\n",
    "\n",
    "    checkpoint = torch.load(checkpoint_path, map_location=device, weights_only=True)\n",
    "\n",
    "    model.load_state_dict(checkpoint['model_state_dict'])\n",
    "    optimizer.load_state_dict(checkpoint['optimizer_state_dict'])\n",
    "\n",
    "    start_epoch = checkpoint['epoch'] + 1\n",
    "    last_loss = checkpoint['loss']\n",
    "\n",
    "    print(f\"Resuming training from Epoch {start_epoch} with last loss {last_loss:.4f}\")"
   ]
  },
  {
   "cell_type": "code",
   "execution_count": null,
   "id": "21",
   "metadata": {},
   "outputs": [],
   "source": [
    "CONSTANT_AGE = torch.tensor([[0.5]], dtype=torch.float32).to(device)  # Use constant normalized age"
   ]
  },
  {
   "cell_type": "code",
   "execution_count": null,
   "id": "22",
   "metadata": {},
   "outputs": [],
   "source": [
    "epochs = 20\n",
    "val_losses = []"
   ]
  },
  {
   "cell_type": "code",
   "execution_count": null,
   "id": "23",
   "metadata": {},
   "outputs": [],
   "source": [
    "for epoch in trange(start_epoch, epochs, desc=\"Epoch Progress\", position=0, leave=True):\n",
    "    optimizer.zero_grad(set_to_none=True)\n",
    "    model.train()\n",
    "    total_loss = 0\n",
    "    total_kl_loss = 0\n",
    "    total_rec_loss = 0\n",
    "    num_batches = len(train_loader)\n",
    "\n",
    "    with tqdm(train_loader, desc=f\"Training Epoch {epoch+1}\", position=1, leave=False, dynamic_ncols=True) as pbar:\n",
    "        for batch_idx, (xb, labels) in enumerate(pbar):\n",
    "            optimizer.zero_grad(set_to_none=True)\n",
    "            batch_size = xb.size(0)\n",
    "            age = get_age(labels, batch_size, device)\n",
    "            xb = xb.to(device, non_blocking=True)\n",
    "\n",
    "\n",
    "            z_mean, z_logvar, skip = model.encoder(xb, age)\n",
    "            z_sample = model.sampling_layer(z_mean, z_logvar)\n",
    "            outs = model.decoder(z_sample, age, skip)\n",
    "\n",
    "            lpips_weight = 0.1\n",
    "            rec_loss = criterion(xb, outs) + lpips_weight * perceptual_loss(xb, outs)\n",
    "            kl_loss = KL_Divergence_Loss(z_mean, z_logvar, free_bits=0.1)\n",
    "\n",
    "            current_beta = 0.01 + 0.99 * min((epoch + 1) / warmup_epochs, 1.0)\n",
    "            loss = rec_loss + current_beta * kl_loss\n",
    "            loss.backward()\n",
    "\n",
    "            total_norm = 0.0\n",
    "            for p in model.parameters():\n",
    "                if p.grad is not None:\n",
    "                    total_norm += p.grad.data.norm(2).item() ** 2\n",
    "            total_norm = total_norm ** 0.5\n",
    "            print(f\"Epoch {epoch+1}, Batch {batch_idx+1}, Gradient Norm: {total_norm:.4f}\")\n",
    "\n",
    "            # Clip gradients to prevent explosion.\n",
    "            torch.nn.utils.clip_grad_norm_(model.parameters(), max_norm=0.5)\n",
    "            optimizer.step()\n",
    "\n",
    "            total_loss += loss.item()\n",
    "            total_rec_loss += rec_loss.item()\n",
    "            total_kl_loss += kl_loss.item()\n",
    "\n",
    "    avg_train_loss = total_loss / num_batches\n",
    "    avg_rec_loss = total_rec_loss / num_batches\n",
    "\n",
    "    model.eval()\n",
    "    total_val_loss = 0\n",
    "\n",
    "    with torch.no_grad():\n",
    "        with tqdm(val_loader, desc=f\"Validation Epoch {epoch+1}\", position=2, leave=False, dynamic_ncols=True) as pbar:\n",
    "            for xb, labels in pbar:\n",
    "                batch_size = xb.size(0)\n",
    "                xb = xb.to(device, non_blocking=True)\n",
    "                age = get_age(labels, batch_size, device)\n",
    "                kl_loss, outs = model(xb, age)\n",
    "                reconstructed_loss = criterion(xb, outs)\n",
    "                val_loss = reconstructed_loss + current_beta * kl_loss\n",
    "                total_val_loss += val_loss.item()\n",
    "                pbar.set_postfix({\"Val Loss\": val_loss.item()})\n",
    "\n",
    "    avg_val_loss = total_val_loss / len(val_loader)\n",
    "    print(f\"Epoch {epoch + 1}/{epochs} - Train Loss: {avg_train_loss:.4f}, \"\n",
    "          f\"Validation Loss: {avg_val_loss:.4f}, Rec Loss: {avg_rec_loss:.4f}\")\n",
    "    print(f\"Learning Rate: {optimizer.param_groups[0]['lr']:.6f}\")\n",
    "\n",
    "    checkpoint_filename = os.path.join(checkpoint_dir, f'checkpoint_epoch_{epoch+1}.pth')\n",
    "    save_checkpoint(model, optimizer, epoch, avg_train_loss, checkpoint_filename)\n",
    "    warmup_scheduler.step()\n",
    "    scheduler.step(avg_val_loss)"
   ]
  },
  {
   "cell_type": "code",
   "execution_count": null,
   "id": "24",
   "metadata": {},
   "outputs": [],
   "source": [
    "desired_age = (30.0 - 0) / (80.0 - 0)\n",
    "desired_age_tensor = torch.tensor([[desired_age]], dtype=torch.float32).to(device)\n",
    "\n",
    "model.eval()\n",
    "zsample = torch.randn(1, 200).to(device)\n",
    "with torch.no_grad():\n",
    "    gen_img = model.decoder(zsample, desired_age_tensor).cpu().squeeze(0).numpy().transpose(1, 2, 0)\n",
    "    plt.imshow(gen_img)\n",
    "    plt.axis(\"off\")\n",
    "    plt.show()"
   ]
  },
  {
   "cell_type": "code",
   "execution_count": null,
   "id": "25",
   "metadata": {},
   "outputs": [],
   "source": []
  },
  {
   "cell_type": "code",
   "execution_count": null,
   "id": "26",
   "metadata": {},
   "outputs": [],
   "source": []
  }
 ],
 "metadata": {
  "kernelspec": {
   "display_name": "Python 3",
   "language": "python",
   "name": "python3"
  },
  "language_info": {
   "codemirror_mode": {
    "name": "ipython",
    "version": 2
   },
   "file_extension": ".py",
   "mimetype": "text/x-python",
   "name": "python",
   "nbconvert_exporter": "python",
   "pygments_lexer": "ipython2",
   "version": "2.7.6"
  }
 },
 "nbformat": 4,
 "nbformat_minor": 5
}
