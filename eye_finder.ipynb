{
 "cells": [
  {
   "cell_type": "code",
   "execution_count": 1,
   "metadata": {},
   "outputs": [],
   "source": [
    "import os\n",
    "from PIL import Image"
   ]
  },
  {
   "cell_type": "code",
   "execution_count": 2,
   "metadata": {},
   "outputs": [
    {
     "name": "stdout",
     "output_type": "stream",
     "text": [
      "Loaded 5000 images.\n"
     ]
    }
   ],
   "source": [
    "def load_images_from_folder(folder):\n",
    "    images = []\n",
    "    for filename in os.listdir(folder):\n",
    "        if '_' in filename:  # Look for filenames with underscore\n",
    "            img = Image.open(os.path.join(folder, filename))\n",
    "            if img is not None:\n",
    "                images.append(img)\n",
    "                if len(images) >= 5000:  # Stop after loading 500 images\n",
    "                    break\n",
    "    return images\n",
    "\n",
    "# Example usage:\n",
    "folder_path = '../FGNET_Dataset/Images/Train/'\n",
    "images = load_images_from_folder(folder_path)\n",
    "print(f\"Loaded {len(images)} images.\")\n"
   ]
  },
  {
   "cell_type": "code",
   "execution_count": 4,
   "metadata": {},
   "outputs": [],
   "source": [
    "import numpy as np\n",
    "\n",
    "# Resize images to the same shape\n",
    "target_size = (180, 180)  # Example target size, adjust as needed\n",
    "resized_images = [img.resize(target_size) for img in images]\n",
    "\n",
    "# Convert images to numpy arrays and stack them\n",
    "image_arrays = [np.array(img) for img in resized_images]\n",
    "stacked_images = np.stack(image_arrays)\n",
    "\n",
    "# Calculate the average image\n",
    "average_image = np.mean(stacked_images, axis=0).astype(np.uint8)\n",
    "\n",
    "# Convert the average image back to a PIL image and display it\n",
    "average_image_pil = Image.fromarray(average_image)\n",
    "average_image_pil.show()"
   ]
  }
 ],
 "metadata": {
  "kernelspec": {
   "display_name": "Python 3",
   "language": "python",
   "name": "python3"
  },
  "language_info": {
   "codemirror_mode": {
    "name": "ipython",
    "version": 3
   },
   "file_extension": ".py",
   "mimetype": "text/x-python",
   "name": "python",
   "nbconvert_exporter": "python",
   "pygments_lexer": "ipython3",
   "version": "3.12.5"
  }
 },
 "nbformat": 4,
 "nbformat_minor": 2
}
