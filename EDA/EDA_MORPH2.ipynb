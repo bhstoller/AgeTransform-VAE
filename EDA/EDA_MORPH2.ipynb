{
 "cells": [
  {
   "cell_type": "code",
   "execution_count": null,
   "metadata": {},
   "outputs": [],
   "source": [
    "import os\n",
    "import pandas as pd\n",
    "import matplotlib.pyplot as plt\n",
    "from PIL import Image\n",
    "import re"
   ]
  },
  {
   "cell_type": "code",
   "execution_count": null,
   "metadata": {},
   "outputs": [],
   "source": [
    "#download the dataset and extract it to a folder named FGNET_Dataset right outside the current folder. \n",
    "train_labels = pd.read_csv(\"../FGNET_Dataset/Index/Train.csv\")\n",
    "print(train_labels.head())"
   ]
  },
  {
   "cell_type": "code",
   "execution_count": null,
   "metadata": {},
   "outputs": [],
   "source": [
    "def extract_person_id(filename):\n",
    "    match = re.match(r\"(\\d+)_\", filename)\n",
    "    return match.group(1) if match else filename\n",
    "\n",
    "train_labels[\"person_id\"] = train_labels[\"filename\"].apply(extract_person_id)"
   ]
  },
  {
   "cell_type": "code",
   "execution_count": null,
   "metadata": {},
   "outputs": [],
   "source": [
    "train_labels.head()"
   ]
  },
  {
   "cell_type": "code",
   "execution_count": null,
   "metadata": {},
   "outputs": [],
   "source": [
    "# Group by person_id and calculate the age difference and file count\n",
    "grouped = train_labels.groupby('person_id').agg(\n",
    "    age_diff=('age', lambda x: x.max() - x.min()),\n",
    "    file_count=('filename', 'count')\n",
    ").reset_index()"
   ]
  },
  {
   "cell_type": "code",
   "execution_count": null,
   "metadata": {},
   "outputs": [],
   "source": [
    "# Filter the grouped dataframe to include only people with more than 1 photo\n",
    "filtered_grouped = grouped[grouped['file_count'] > 1]\n",
    "\n",
    "# Initialize a dictionary to store the results\n",
    "age_diff_stats = {}\n",
    "\n",
    "# Calculate the average age difference for each n in the range of 2 to 40\n",
    "for n in range(2, 40):\n",
    "    subset = filtered_grouped[filtered_grouped['file_count'] == n]\n",
    "    if not subset.empty:\n",
    "        avg_age_diff = subset['age_diff'].mean()\n",
    "        age_diff_stats[n] = avg_age_diff\n",
    "\n",
    "# Print the statistics\n",
    "for n, avg_age_diff in age_diff_stats.items():\n",
    "    print(f\"Number of photos: {n}, Average age difference: {avg_age_diff:.2f}\")"
   ]
  },
  {
   "cell_type": "code",
   "execution_count": null,
   "metadata": {},
   "outputs": [],
   "source": [
    "# Convert the age_diff_stats dictionary to a DataFrame\n",
    "age_diff_df = pd.DataFrame(list(age_diff_stats.items()), columns=['Number of Photos', 'Average Age Difference'])\n",
    "\n",
    "# Plot the DataFrame\n",
    "plt.figure(figsize=(10, 6))\n",
    "plt.plot(age_diff_df['Number of Photos'], age_diff_df['Average Age Difference'], marker='o')\n",
    "plt.xlabel('Number of Photos')\n",
    "plt.ylabel('Average Age Difference')\n",
    "plt.title('Average Age Difference vs. Number of Photos')\n",
    "plt.grid(True)\n",
    "plt.show()"
   ]
  },
  {
   "cell_type": "code",
   "execution_count": null,
   "metadata": {},
   "outputs": [],
   "source": [
    "# Filter the DataFrame to include only people with at least 2 photos\n",
    "at_least_2_photos = filtered_grouped[filtered_grouped['file_count'] >= 2]\n",
    "\n",
    "# Calculate the average age difference\n",
    "avg_age_diff_at_least_2_photos = at_least_2_photos['age_diff'].mean()\n",
    "\n",
    "print(f\"The average age difference for anyone with at least 2 photos is: {avg_age_diff_at_least_2_photos:.2f}\")"
   ]
  },
  {
   "cell_type": "code",
   "execution_count": null,
   "metadata": {},
   "outputs": [],
   "source": [
    "# Group by age_diff and count the number of people for each age difference\n",
    "age_diff_counts = grouped['age_diff'].value_counts().sort_index()\n",
    "\n",
    "# Plot the number of people with each age difference\n",
    "plt.figure(figsize=(10, 6))\n",
    "plt.bar(age_diff_counts.index, age_diff_counts.values)\n",
    "plt.xlabel('Age Difference')\n",
    "plt.ylabel('Number of People')\n",
    "plt.title('Number of People with Each Age Difference')\n",
    "plt.xticks(rotation=90)\n",
    "plt.grid(True)\n",
    "plt.show()"
   ]
  }
 ],
 "metadata": {
  "kernelspec": {
   "display_name": "Python 3",
   "language": "python",
   "name": "python3"
  },
  "language_info": {
   "codemirror_mode": {
    "name": "ipython",
    "version": 3
   },
   "file_extension": ".py",
   "mimetype": "text/x-python",
   "name": "python",
   "nbconvert_exporter": "python",
   "pygments_lexer": "ipython3",
   "version": "3.12.5"
  }
 },
 "nbformat": 4,
 "nbformat_minor": 2
}
