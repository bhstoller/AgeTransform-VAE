{
 "cells": [
  {
   "cell_type": "code",
   "execution_count": null,
   "metadata": {},
   "outputs": [],
   "source": [
    "import pandas as pd\n",
    "import numpy as np\n",
    "import matplotlib.pyplot as plt\n",
    "import seaborn as sns\n",
    "import scipy.io\n",
    "import datetime"
   ]
  },
  {
   "cell_type": "markdown",
   "metadata": {},
   "source": [
    "# Wiki Loading"
   ]
  },
  {
   "cell_type": "code",
   "execution_count": null,
   "metadata": {},
   "outputs": [],
   "source": [
    "# Load the .mat file\n",
    "wiki_mat = scipy.io.loadmat('Datasets/IMBD-Wiki/wiki/wiki.mat')\n",
    "\n",
    "print(wiki_mat.keys())"
   ]
  },
  {
   "cell_type": "code",
   "execution_count": null,
   "metadata": {},
   "outputs": [],
   "source": [
    "# Extract the column keys\n",
    "wiki = wiki_mat['wiki']\n",
    "print(wiki.dtype)"
   ]
  },
  {
   "cell_type": "code",
   "execution_count": null,
   "metadata": {},
   "outputs": [],
   "source": [
    "# Define the fields to extract\n",
    "fields = [\"dob\", \"photo_taken\", \"full_path\", \"gender\", \"name\", \"face_score\", \"second_face_score\"]\n",
    "\n",
    "# Extract fields using a loop\n",
    "data = {field: wiki[field][0][0].flatten() for field in fields}\n",
    "\n",
    "# Convert MATLAB serial date to datetime\n",
    "data[\"dob\"] = [datetime.datetime.fromordinal(int(d)) if d > 0 else None for d in data[\"dob\"]]\n",
    "\n",
    "# Compute age at the time of the photo\n",
    "data[\"age\"] = [photo - d.year if d is not None else None for photo, d in zip(data[\"photo_taken\"], data[\"dob\"])]\n",
    "\n",
    "# Convert name and image path to readable format\n",
    "data[\"name\"] = [n[0] if len(n) > 0 else None for n in data[\"name\"]]\n",
    "data[\"full_path\"] = [p[0] for p in data[\"full_path\"]]  # Convert NumPy array of strings\n",
    "\n",
    "# Create DataFrame\n",
    "df_wiki = pd.DataFrame(data, columns=[\"name\", \"age\", \"photo_taken\", \"face_score\", \"second_face_score\", \"gender\", \"full_path\"])\n",
    "\n",
    "# Drop invalid ages (e.g., negative or unrealistic ages)\n",
    "df_wiki = df_wiki[(df_wiki[\"age\"] > 0) & (df_wiki[\"age\"] < 100)]\n",
    "\n",
    "# Remove rows where no face was detected\n",
    "df_wiki = df_wiki[df_wiki[\"face_score\"] > 0]\n"
   ]
  },
  {
   "cell_type": "code",
   "execution_count": null,
   "metadata": {},
   "outputs": [],
   "source": [
    "df_wiki.head()"
   ]
  },
  {
   "cell_type": "code",
   "execution_count": null,
   "metadata": {},
   "outputs": [],
   "source": [
    "df_wiki.info()"
   ]
  },
  {
   "cell_type": "markdown",
   "metadata": {},
   "source": [
    "# IMDB Loading"
   ]
  },
  {
   "cell_type": "code",
   "execution_count": null,
   "metadata": {},
   "outputs": [],
   "source": [
    "# Load the .mat file\n",
    "imdb_mat = scipy.io.loadmat('Datasets/IMBD-Wiki/imdb/imdb.mat')\n",
    "\n",
    "print(imdb_mat.keys())"
   ]
  },
  {
   "cell_type": "code",
   "execution_count": null,
   "metadata": {},
   "outputs": [],
   "source": [
    "# Extract the column keys\n",
    "imdb = imdb_mat['imdb']\n",
    "print(imdb.dtype)"
   ]
  },
  {
   "cell_type": "code",
   "execution_count": null,
   "metadata": {},
   "outputs": [],
   "source": [
    "# Define the fields to extract\n",
    "fields = [\"dob\", \"photo_taken\", \"full_path\", \"gender\", \"name\", \"face_score\", \"second_face_score\"]\n",
    "\n",
    "# Extract fields using a loop\n",
    "data = {field: imdb[field][0][0].flatten() for field in fields}\n",
    "\n",
    "# Convert MATLAB serial date to datetime\n",
    "data[\"dob\"] = [datetime.datetime.fromordinal(int(d)) if d > 0 else None for d in data[\"dob\"]]\n",
    "\n",
    "# Compute age at the time of the photo\n",
    "data[\"age\"] = [photo - d.year if d is not None else None for photo, d in zip(data[\"photo_taken\"], data[\"dob\"])]\n",
    "\n",
    "# Convert name and image path to readable format\n",
    "data[\"name\"] = [n[0] if len(n) > 0 else None for n in data[\"name\"]]\n",
    "data[\"full_path\"] = [p[0] for p in data[\"full_path\"]]  # Convert NumPy array of strings\n",
    "\n",
    "# Create DataFrame\n",
    "df_imdb = pd.DataFrame(data, columns=[\"name\", \"age\", \"photo_taken\", \"face_score\", \"second_face_score\", \"gender\", \"full_path\"])\n",
    "\n",
    "# Drop invalid ages (e.g., negative or unrealistic ages)\n",
    "df_imdb = df_imdb[(df_imdb[\"age\"] > 0) & (df_imdb[\"age\"] < 100)]\n",
    "\n",
    "# Remove rows where no face was detected\n",
    "df_imdb = df_imdb[df_imdb[\"face_score\"] > 0]\n"
   ]
  },
  {
   "cell_type": "code",
   "execution_count": null,
   "metadata": {},
   "outputs": [],
   "source": [
    "df_imdb.head()"
   ]
  },
  {
   "cell_type": "code",
   "execution_count": null,
   "metadata": {},
   "outputs": [],
   "source": [
    "df_imdb.info()"
   ]
  },
  {
   "cell_type": "markdown",
   "metadata": {},
   "source": [
    "# Data Merging"
   ]
  },
  {
   "cell_type": "code",
   "execution_count": null,
   "metadata": {},
   "outputs": [],
   "source": [
    "for wiki_col, imdb_col in zip(df_wiki.columns, df_imdb.columns):\n",
    "    if wiki_col != imdb_col:\n",
    "        print('Column Mismatch')\n",
    "    else:\n",
    "        print('Column Match')"
   ]
  },
  {
   "cell_type": "code",
   "execution_count": null,
   "metadata": {},
   "outputs": [],
   "source": [
    "df_wiki['source'] = 'wiki'\n",
    "df_imdb['source'] = 'imdb'"
   ]
  },
  {
   "cell_type": "code",
   "execution_count": null,
   "metadata": {},
   "outputs": [],
   "source": [
    "df = pd.concat([df_wiki, df_imdb], ignore_index=True)"
   ]
  },
  {
   "cell_type": "code",
   "execution_count": null,
   "metadata": {},
   "outputs": [],
   "source": [
    "df.info()"
   ]
  },
  {
   "cell_type": "code",
   "execution_count": null,
   "metadata": {},
   "outputs": [],
   "source": [
    "plt.figure(figsize=(10, 6))  # Increase figure size for better readability\n",
    "sns.histplot(df[\"age\"], bins=30, color=\"royalblue\", edgecolor=\"black\", kde=True, alpha=0.8)\n",
    "plt.xlabel(\"Age\", fontsize=14)\n",
    "plt.ylabel(\"Frequency\", fontsize=14)\n",
    "plt.title(\"Age Distribution\", fontsize=16, fontweight=\"bold\")\n",
    "plt.grid(axis='y', linestyle='--', alpha=0.7)  # Dashed gridlines for readability\n",
    "\n",
    "plt.show()\n"
   ]
  },
  {
   "cell_type": "code",
   "execution_count": null,
   "metadata": {},
   "outputs": [],
   "source": [
    "image_counts = df[\"name\"].value_counts()\n",
    "repeat_individuals = image_counts[image_counts > 1].index\n",
    "repeat_df = df[df[\"name\"].isin(repeat_individuals)]\n",
    "age_diffs = repeat_df.groupby(\"name\")[\"age\"].agg([\"min\", \"max\"])\n",
    "age_diffs[\"age_diff\"] = age_diffs[\"max\"] - age_diffs[\"min\"]\n",
    "\n",
    "print(\"Total repeat individuals:\", len(repeat_individuals))\n",
    "print(\"Average age difference among repeat faces:\", age_diffs[\"age_diff\"].mean())\n"
   ]
  },
  {
   "cell_type": "code",
   "execution_count": null,
   "metadata": {},
   "outputs": [],
   "source": [
    "plt.figure(figsize=(10, 6))\n",
    "sns.histplot(age_diffs[\"age_diff\"].dropna(), bins=30, color=\"royalblue\", edgecolor=\"black\", kde=True, alpha=0.8)\n",
    "plt.xlabel(\"Age Difference (Years)\", fontsize= 14)\n",
    "plt.ylabel(\"Number of Individuals\", fontsize=14)\n",
    "plt.title(\"Age Difference Among Repeat Faces\", fontsize=16, fontweight=\"bold\")\n",
    "plt.grid(axis='y', linestyle='--', alpha=0.7)  # Dashed gridlines for readability\n",
    "\n",
    "plt.show()\n"
   ]
  },
  {
   "cell_type": "code",
   "execution_count": null,
   "metadata": {},
   "outputs": [],
   "source": [
    "df.head()"
   ]
  },
  {
   "cell_type": "code",
   "execution_count": null,
   "metadata": {},
   "outputs": [],
   "source": [
    "plt.figure(figsize=(10, 6))\n",
    "plt.pie(df['gender'].value_counts(), labels= ['Male', 'Female'], startangle=90, wedgeprops={\"edgecolor\": \"black\"},  autopct='%1.1f%%')\n",
    "plt.title(\"Gender Distribution\", fontsize=14, fontweight=\"bold\")\n",
    "\n",
    "plt.show()\n"
   ]
  },
  {
   "cell_type": "code",
   "execution_count": null,
   "metadata": {},
   "outputs": [],
   "source": [
    "df_nonnull = df.copy()\n",
    "df_nonnull = df_nonnull.dropna()"
   ]
  },
  {
   "cell_type": "code",
   "execution_count": null,
   "metadata": {},
   "outputs": [],
   "source": [
    "df_nonnull.info()"
   ]
  },
  {
   "cell_type": "code",
   "execution_count": null,
   "metadata": {},
   "outputs": [],
   "source": [
    "plt.figure(figsize=(10, 6))  # Increase figure size for better readability\n",
    "sns.histplot(df[\"face_score\"], bins=30, color=\"royalblue\", edgecolor=\"black\", kde=True, alpha=0.8)\n",
    "plt.xlabel(\"Face Score\", fontsize=14)\n",
    "plt.ylabel(\"Frequency\", fontsize=14)\n",
    "plt.title(\"Face Score Distribution\", fontsize=16, fontweight=\"bold\")\n",
    "plt.grid(axis='y', linestyle='--', alpha=0.7)  # Dashed gridlines for readability\n",
    "\n",
    "plt.show()"
   ]
  },
  {
   "cell_type": "code",
   "execution_count": null,
   "metadata": {},
   "outputs": [],
   "source": [
    "plt.figure(figsize=(10, 6))  # Increase figure size for better readability\n",
    "sns.histplot(df[\"second_face_score\"], bins=30, color=\"royalblue\", edgecolor=\"black\", kde=True, alpha=0.8)\n",
    "plt.xlabel(\"Second Face Score\", fontsize=14)\n",
    "plt.ylabel(\"Frequency\", fontsize=14)\n",
    "plt.title(\"Second Face Score Distribution\", fontsize=16, fontweight=\"bold\")\n",
    "plt.grid(axis='y', linestyle='--', alpha=0.7)  # Dashed gridlines for readability\n",
    "\n",
    "plt.show()"
   ]
  }
 ],
 "metadata": {
  "kernelspec": {
   "display_name": "bayes",
   "language": "python",
   "name": "python3"
  },
  "language_info": {
   "codemirror_mode": {
    "name": "ipython",
    "version": 3
   },
   "file_extension": ".py",
   "mimetype": "text/x-python",
   "name": "python",
   "nbconvert_exporter": "python",
   "pygments_lexer": "ipython3",
   "version": "3.10.16"
  }
 },
 "nbformat": 4,
 "nbformat_minor": 2
}
