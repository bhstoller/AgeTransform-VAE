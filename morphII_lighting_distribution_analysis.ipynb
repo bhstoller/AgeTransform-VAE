{
 "cells": [
  {
   "cell_type": "code",
   "execution_count": null,
   "id": "0",
   "metadata": {},
   "outputs": [],
   "source": [
    "import cv2\n",
    "import numpy as np\n",
    "import pandas as pd\n",
    "import os\n",
    "from skimage import exposure\n",
    "from tqdm import tqdm"
   ]
  },
  {
   "cell_type": "code",
   "execution_count": null,
   "id": "1",
   "metadata": {},
   "outputs": [],
   "source": [
    "BASE_PATH = \"\"\n",
    "\n",
    "train_csv_path = os.path.join(BASE_PATH, \"Dataset/Index/Train.csv\")\n",
    "train_df = pd.read_csv(train_csv_path)"
   ]
  },
  {
   "cell_type": "code",
   "execution_count": null,
   "id": "2",
   "metadata": {},
   "outputs": [],
   "source": [
    "def compute_image_stats(image_path):\n",
    "    image = cv2.imread(image_path)\n",
    "    if image is None:\n",
    "        return None, None\n",
    "\n",
    "    # Convert to grayscale\n",
    "    gray = cv2.cvtColor(image, cv2.COLOR_BGR2GRAY)\n",
    "\n",
    "    # Compute brightness (mean pixel value)\n",
    "    brightness = np.mean(gray)\n",
    "\n",
    "    # Compute histogram (normalized)\n",
    "    hist = cv2.calcHist([gray], [0], None, [256], [0, 256]).flatten()\n",
    "    hist /= hist.sum()  # Normalize histogram\n",
    "\n",
    "    return brightness, hist"
   ]
  },
  {
   "cell_type": "code",
   "execution_count": null,
   "id": "3",
   "metadata": {},
   "outputs": [],
   "source": [
    "brightness_values = []\n",
    "histograms = np.zeros((256,))\n",
    "\n",
    "num_images = min(50000, len(train_df))\n",
    "image_paths = train_df['filepath'][:num_images].tolist()\n",
    "\n",
    "image_paths = [os.path.join(BASE_PATH, p) for p in image_paths]"
   ]
  },
  {
   "cell_type": "code",
   "execution_count": null,
   "id": "4",
   "metadata": {},
   "outputs": [],
   "source": [
    "for image_path in tqdm(image_paths, desc=\"Processing images\"):\n",
    "    brightness, hist = compute_image_stats(image_path)\n",
    "    if brightness is not None:\n",
    "        brightness_values.append(brightness)\n",
    "        histograms += hist"
   ]
  },
  {
   "cell_type": "code",
   "execution_count": null,
   "id": "5",
   "metadata": {},
   "outputs": [],
   "source": [
    "mean_brightness = np.mean(brightness_values)\n",
    "mean_histogram = histograms / len(brightness_values)\n",
    "\n",
    "stats_df = pd.DataFrame({\n",
    "    \"mean_brightness\": [mean_brightness],\n",
    "    \"histogram\": [list(mean_histogram)]\n",
    "})\n",
    "\n",
    "stats_save_path = os.path.join(BASE_PATH, \"morphii_train_stats.csv\")\n",
    "stats_df.to_csv(stats_save_path, index=False)\n",
    "\n",
    "print(f\"Saved statistics to {stats_save_path}\")"
   ]
  },
  {
   "cell_type": "code",
   "execution_count": null,
   "id": "6",
   "metadata": {},
   "outputs": [],
   "source": []
  }
 ],
 "metadata": {
  "kernelspec": {
   "display_name": "Python 3",
   "language": "python",
   "name": "python3"
  },
  "language_info": {
   "codemirror_mode": {
    "name": "ipython",
    "version": 2
   },
   "file_extension": ".py",
   "mimetype": "text/x-python",
   "name": "python",
   "nbconvert_exporter": "python",
   "pygments_lexer": "ipython2",
   "version": "2.7.6"
  }
 },
 "nbformat": 4,
 "nbformat_minor": 5
}
