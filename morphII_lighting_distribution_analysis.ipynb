{
 "cells": [
  {
   "cell_type": "code",
   "execution_count": null,
   "id": "0",
   "metadata": {},
   "outputs": [],
   "source": [
    "import cv2\n",
    "import numpy as np\n",
    "import pandas as pd\n",
    "import os\n",
    "from collections import Counter\n",
    "from tqdm import tqdm"
   ]
  },
  {
   "cell_type": "code",
   "execution_count": null,
   "id": "1",
   "metadata": {},
   "outputs": [],
   "source": [
    "BASE_PATH = \"\"\n",
    "\n",
    "train_csv_path = os.path.join(BASE_PATH, \"Dataset/Index/Train.csv\")\n",
    "train_df = pd.read_csv(train_csv_path)"
   ]
  },
  {
   "cell_type": "code",
   "execution_count": null,
   "id": "2",
   "metadata": {},
   "outputs": [],
   "source": [
    "def estimate_background_color_top(image, height=10, width=2):\n",
    "    \"\"\"\n",
    "    Estimates the background color by sampling a vertical slice from the top\n",
    "    left and right corners of the image, and then taking the mode of those pixels.\n",
    "    \"\"\"\n",
    "    h, w, _ = image.shape\n",
    "    # Grab a 2x10 patch from top left and top right.\n",
    "    patch_left = image[0:height, 0:width, :]        # shape (height, width, 3)\n",
    "    patch_right = image[0:height, w-width:w, :]       # shape (height, width, 3)\n",
    "    # Combine the two patches.\n",
    "    combined = np.concatenate([patch_left.reshape(-1, 3),\n",
    "                               patch_right.reshape(-1, 3)], axis=0)\n",
    "    # Convert each pixel to a tuple and compute the mode.\n",
    "    pixel_list = [tuple(pixel) for pixel in combined]\n",
    "    mode_color = Counter(pixel_list).most_common(1)[0][0]\n",
    "    return np.array(mode_color, dtype=np.uint8)\n",
    "\n",
    "def remove_background(image, tolerance=30, height=10, width=2):\n",
    "    \"\"\"\n",
    "    Computes a gentle background mask based on the difference from a background\n",
    "    color estimated from the top corner slices using the mode.\n",
    "    Pixels that differ from the estimated color by more than 'tolerance'\n",
    "    (Euclidean distance) are considered foreground.\n",
    "    \"\"\"\n",
    "    bg_color = estimate_background_color_top(image, height, width)\n",
    "    diff = np.linalg.norm(image.astype(np.float32) - bg_color.astype(np.float32), axis=2)\n",
    "    mask = diff > tolerance  # True for foreground pixels\n",
    "    # Smooth the mask slightly.\n",
    "    mask = mask.astype(np.uint8) * 255\n",
    "    kernel = np.ones((3, 3), np.uint8)\n",
    "    mask = cv2.morphologyEx(mask, cv2.MORPH_OPEN, kernel, iterations=1)\n",
    "    mask = cv2.morphologyEx(mask, cv2.MORPH_CLOSE, kernel, iterations=1)\n",
    "    return mask.astype(bool)"
   ]
  },
  {
   "cell_type": "code",
   "execution_count": null,
   "id": "3",
   "metadata": {},
   "outputs": [],
   "source": [
    "def compute_image_stats(image_path, tolerance=30):\n",
    "    image = cv2.imread(image_path)\n",
    "    if image is None:\n",
    "        return None, None\n",
    "    # Remove background mask.\n",
    "    mask = remove_background(image, tolerance)\n",
    "    gray = cv2.cvtColor(image, cv2.COLOR_BGR2GRAY)\n",
    "    if np.sum(mask)==0:\n",
    "        return None, None\n",
    "    brightness = np.mean(gray[mask])\n",
    "    hist, _ = np.histogram(gray[mask], bins=256, range=(0,256))\n",
    "    hist = hist.astype(np.float32)\n",
    "    if hist.sum() > 0:\n",
    "        hist /= hist.sum()\n",
    "    return brightness, hist"
   ]
  },
  {
   "cell_type": "code",
   "execution_count": null,
   "id": "4",
   "metadata": {},
   "outputs": [],
   "source": [
    "brightness_values = []\n",
    "histograms = np.zeros((256,), dtype=np.float32)\n",
    "num_images = min(50000, len(train_df))\n",
    "image_paths = train_df['filepath'].sample(num_images).tolist()\n",
    "image_paths = [os.path.join(BASE_PATH, p) for p in image_paths]"
   ]
  },
  {
   "cell_type": "code",
   "execution_count": null,
   "id": "5",
   "metadata": {},
   "outputs": [],
   "source": [
    "for image_path in tqdm(image_paths, desc=\"Processing images\"):\n",
    "    brightness, hist = compute_image_stats(image_path, tolerance=30)\n",
    "    if brightness is not None:\n",
    "        brightness_values.append(brightness)\n",
    "        histograms += hist\n",
    "\n",
    "mean_brightness = np.mean(brightness_values)\n",
    "mean_histogram = histograms / len(brightness_values)"
   ]
  },
  {
   "cell_type": "code",
   "execution_count": null,
   "id": "6",
   "metadata": {},
   "outputs": [],
   "source": [
    "stats_df = pd.DataFrame({\n",
    "    \"mean_brightness\": [mean_brightness],\n",
    "    \"histogram\": [list(mean_histogram)]\n",
    "})\n",
    "stats_save_path = os.path.join(BASE_PATH, \"morphii_train_stats.csv\")\n",
    "stats_df.to_csv(stats_save_path, index=False)\n",
    "print(f\"Saved statistics to {stats_save_path}\")"
   ]
  },
  {
   "cell_type": "code",
   "execution_count": null,
   "id": "7",
   "metadata": {},
   "outputs": [],
   "source": []
  }
 ],
 "metadata": {
  "kernelspec": {
   "display_name": "Python 3",
   "language": "python",
   "name": "python3"
  },
  "language_info": {
   "codemirror_mode": {
    "name": "ipython",
    "version": 2
   },
   "file_extension": ".py",
   "mimetype": "text/x-python",
   "name": "python",
   "nbconvert_exporter": "python",
   "pygments_lexer": "ipython2",
   "version": "2.7.6"
  }
 },
 "nbformat": 4,
 "nbformat_minor": 5
}
