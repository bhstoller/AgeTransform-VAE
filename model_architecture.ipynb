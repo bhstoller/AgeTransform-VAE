{
 "cells": [
  {
   "cell_type": "code",
   "id": "initial_id",
   "metadata": {
    "collapsed": true,
    "ExecuteTime": {
     "end_time": "2025-02-23T23:19:12.638908Z",
     "start_time": "2025-02-23T23:19:12.499236Z"
    }
   },
   "source": [
    "import torch\n",
    "import torch.nn as nn"
   ],
   "outputs": [
    {
     "ename": "ModuleNotFoundError",
     "evalue": "No module named 'tensorflow'",
     "output_type": "error",
     "traceback": [
      "\u001B[0;31m---------------------------------------------------------------------------\u001B[0m",
      "\u001B[0;31mModuleNotFoundError\u001B[0m                       Traceback (most recent call last)",
      "Cell \u001B[0;32mIn[1], line 1\u001B[0m\n\u001B[0;32m----> 1\u001B[0m \u001B[38;5;28;01mimport\u001B[39;00m\u001B[38;5;250m \u001B[39m\u001B[38;5;21;01mtensorflow\u001B[39;00m\u001B[38;5;250m \u001B[39m\u001B[38;5;28;01mas\u001B[39;00m\u001B[38;5;250m \u001B[39m\u001B[38;5;21;01mtf\u001B[39;00m\n",
      "\u001B[0;31mModuleNotFoundError\u001B[0m: No module named 'tensorflow'"
     ]
    }
   ],
   "execution_count": 1
  },
  {
   "metadata": {},
   "cell_type": "code",
   "outputs": [],
   "execution_count": null,
   "source": [
    "import torch\n",
    "import torch.nn as nn\n",
    "\n",
    "class Encoder(nn.Module):\n",
    "    def __init__(self):\n",
    "        super().__init__()\n",
    "        self.c1 = nn.Conv2d(3, 64, 3, 2, padding=1)  # B x 64 x 64 x 64\n",
    "        self.bn1 = nn.BatchNorm2d(64)\n",
    "        self.lru1 = nn.LeakyReLU(1e-2)\n",
    "\n",
    "        self.c2 = nn.Conv2d(64, 128, 3, 2, padding=1)  # B x 128 x 32 x 32\n",
    "        self.bn2 = nn.BatchNorm2d(128)\n",
    "        self.lru2 = nn.LeakyReLU(1e-2)\n",
    "\n",
    "        self.c3 = nn.Conv2d(128, 128, 3, 2, padding=1)  # B x 128 x 16 x 16\n",
    "        self.bn3 = nn.BatchNorm2d(128)\n",
    "        self.lru3 = nn.LeakyReLU(1e-2)\n",
    "\n",
    "        self.c4 = nn.Conv2d(128, 128, 3, 2, padding=1)  # B x 128 x 8 x 8\n",
    "        self.bn4 = nn.BatchNorm2d(128)\n",
    "        self.lru4 = nn.LeakyReLU(1e-2)\n",
    "\n",
    "        self.c5 = nn.Conv2d(128, 128, 3, 2, padding=1)  # B x 128 x 4 x 4\n",
    "        self.bn5 = nn.BatchNorm2d(128)\n",
    "        self.lru5 = nn.LeakyReLU(1e-2)\n",
    "\n",
    "        self.c6 = nn.Conv2d(128, 128, 3, 2, padding=1)  # B x 128 x 2 x 2\n",
    "        self.bn6 = nn.BatchNorm2d(128)\n",
    "        self.lru6 = nn.LeakyReLU(1e-2)\n",
    "\n",
    "        self.flatten_layer = nn.Flatten(start_dim=1, end_dim=-1)\n",
    "        self.z_mu = nn.Linear(128 * 2 * 2, 200)\n",
    "        self.z_logvar = nn.Linear(128 * 2 * 2, 200)\n",
    "\n",
    "    def forward(self, x):\n",
    "        x = self.lru1(self.bn1(self.c1(x)))\n",
    "        x = self.lru2(self.bn2(self.c2(x)))\n",
    "        x = self.lru3(self.bn3(self.c3(x)))\n",
    "        x = self.lru4(self.bn4(self.c4(x)))\n",
    "        x = self.lru5(self.bn5(self.c5(x)))\n",
    "        x = self.lru6(self.bn6(self.c6(x)))\n",
    "\n",
    "        x = self.flatten_layer(x)\n",
    "        z_mu = self.z_mu(x)\n",
    "        z_logvar = self.z_logvar(x)\n",
    "\n",
    "        return z_mu, z_logvar"
   ],
   "id": "52598c535912c3bf"
  },
  {
   "metadata": {},
   "cell_type": "code",
   "outputs": [],
   "execution_count": null,
   "source": [
    "class Decoder(nn.Module):\n",
    "    def __init__(self):\n",
    "        super().__init__()\n",
    "        self.fc = nn.Linear(200, 128 * 2 * 2)  # Match the latent space size\n",
    "\n",
    "        self.deconv1 = nn.ConvTranspose2d(128, 128, 3, 2, padding=1, output_padding=1)  # B x 128 x 4 x 4\n",
    "        self.bn1 = nn.BatchNorm2d(128)\n",
    "        self.lru1 = nn.LeakyReLU(1e-2)\n",
    "\n",
    "        self.deconv2 = nn.ConvTranspose2d(128, 128, 3, 2, padding=1, output_padding=1)  # B x 128 x 8 x 8\n",
    "        self.bn2 = nn.BatchNorm2d(128)\n",
    "        self.lru2 = nn.LeakyReLU(1e-2)\n",
    "\n",
    "        self.deconv3 = nn.ConvTranspose2d(128, 128, 3, 2, padding=1, output_padding=1)  # B x 128 x 16 x 16\n",
    "        self.bn3 = nn.BatchNorm2d(128)\n",
    "        self.lru3 = nn.LeakyReLU(1e-2)\n",
    "\n",
    "        self.deconv4 = nn.ConvTranspose2d(128, 128, 3, 2, padding=1, output_padding=1)  # B x 128 x 32 x 32\n",
    "        self.bn4 = nn.BatchNorm2d(128)\n",
    "        self.lru4 = nn.LeakyReLU(1e-2)\n",
    "\n",
    "        self.deconv5 = nn.ConvTranspose2d(128, 64, 3, 2, padding=1, output_padding=1)  # B x 64 x 64 x 64\n",
    "        self.bn5 = nn.BatchNorm2d(64)\n",
    "        self.lru5 = nn.LeakyReLU(1e-2)\n",
    "\n",
    "        self.deconv6 = nn.ConvTranspose2d(64, 3, 3, 2, padding=1, output_padding=1)  # B x 3 x 128 x 128\n",
    "        self.output_activation = nn.Sigmoid()\n",
    "\n",
    "    def forward(self, z):\n",
    "        x = self.fc(z)\n",
    "        x = x.view(-1, 128, 2, 2)\n",
    "\n",
    "        x = self.deconv1(x)\n",
    "        x = self.bn1(x)\n",
    "        x = self.lru1(x)\n",
    "\n",
    "        x = self.deconv2(x)\n",
    "        x = self.bn2(x)\n",
    "        x = self.lru2(x)\n",
    "\n",
    "        x = self.deconv3(x)\n",
    "        x = self.bn3(x)\n",
    "        x = self.lru3(x)\n",
    "\n",
    "        x = self.deconv4(x)\n",
    "        x = self.bn4(x)\n",
    "        x = self.lru4(x)\n",
    "\n",
    "        x = self.deconv5(x)\n",
    "        x = self.bn5(x)\n",
    "        x = self.lru5(x)\n",
    "\n",
    "        x = self.deconv6(x)\n",
    "        x = self.output_activation(x)\n",
    "\n",
    "        return x"
   ],
   "id": "6d04fd3f06054869"
  },
  {
   "metadata": {},
   "cell_type": "code",
   "outputs": [],
   "execution_count": null,
   "source": [
    "class Sampling(nn.Module):\n",
    "    def __init__(self):\n",
    "        super().__init__()\n",
    "\n",
    "    def forward(self,z_mean,z_logvar):\n",
    "        batch_size,dim = z_mean.shape\n",
    "        epsilon = torch.randn(batch_size,dim,device=z_mean.device)\n",
    "        return z_mean + torch.exp(0.5*z_logvar)*epsilon"
   ],
   "id": "ca0d36ac080be405"
  },
  {
   "metadata": {},
   "cell_type": "code",
   "outputs": [],
   "source": [
    "def KL_Divergence_Loss(z_mean,z_logvar):\n",
    "    loss = -0.5 * torch.sum(1 + z_logvar - z_mean.pow(2) - z_logvar.exp())\n",
    "    loss = loss.mean()\n",
    "    return loss\n",
    "\n",
    "loss = nn.MSELoss(reduction='sum')"
   ],
   "id": "a49e6a468cb2793d",
   "execution_count": null
  },
  {
   "metadata": {},
   "cell_type": "code",
   "outputs": [],
   "execution_count": null,
   "source": "device = torch.device(\"cuda\" if torch.cuda.is_available() else \"mps\")",
   "id": "45be288100c58a1"
  },
  {
   "metadata": {},
   "cell_type": "code",
   "outputs": [],
   "execution_count": null,
   "source": [
    "encoder = Encoder().to(device)\n",
    "decoder = Decoder().to(device)\n",
    "sampling_layer = Sampling().to(device)\n",
    "\n",
    "class AutoEncoder(nn.Module):\n",
    "    def __init__(self):\n",
    "        super().__init__()\n",
    "        self.encoder = encoder\n",
    "        self.decoder = decoder\n",
    "        self.sampling_layer = sampling_layer\n",
    "\n",
    "    def forward(self,x):\n",
    "        z_mean,z_logvar = self.encoder(x)\n",
    "        loss = KL_Divergence_Loss(z_mean,z_logvar)\n",
    "        z_sample = self.sampling_layer(z_mean,z_logvar)\n",
    "        out = self.decoder(z_sample)\n",
    "        return loss,out\n",
    "\n",
    "model = AutoEncoder().to(device)"
   ],
   "id": "2e798a9f7af59f34"
  },
  {
   "metadata": {},
   "cell_type": "code",
   "outputs": [],
   "execution_count": null,
   "source": [
    "from torch.optim.lr_scheduler import ReduceLROnPlateau\n",
    "optimizer = torch.optim.AdamW(model.parameters(),lr=0.01,weight_decay=0.0001)\n",
    "scheduler = ReduceLROnPlateau(optimizer, mode='min', patience=3, factor=0.1,threshold=0.001)"
   ],
   "id": "62bf56e880fe0061"
  },
  {
   "metadata": {},
   "cell_type": "code",
   "outputs": [],
   "execution_count": null,
   "source": "",
   "id": "9771f3fa15c93e8"
  }
 ],
 "metadata": {
  "kernelspec": {
   "display_name": "Python 3",
   "language": "python",
   "name": "python3"
  },
  "language_info": {
   "codemirror_mode": {
    "name": "ipython",
    "version": 2
   },
   "file_extension": ".py",
   "mimetype": "text/x-python",
   "name": "python",
   "nbconvert_exporter": "python",
   "pygments_lexer": "ipython2",
   "version": "2.7.6"
  }
 },
 "nbformat": 4,
 "nbformat_minor": 5
}
